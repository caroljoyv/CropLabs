{
 "cells": [
  {
   "cell_type": "code",
   "execution_count": 1,
   "id": "5dbc2a87-d294-471e-9b9e-cf91385da04e",
   "metadata": {},
   "outputs": [
    {
     "name": "stdout",
     "output_type": "stream",
     "text": [
      "Collecting wikipedia\n",
      "  Downloading wikipedia-1.4.0.tar.gz (27 kB)\n",
      "  Preparing metadata (setup.py) ... \u001b[?25ldone\n",
      "\u001b[?25hRequirement already satisfied: beautifulsoup4 in ./cuda/lib/python3.10/site-packages (from wikipedia) (4.12.2)\n",
      "Requirement already satisfied: requests<3.0.0,>=2.0.0 in ./cuda/lib/python3.10/site-packages (from wikipedia) (2.31.0)\n",
      "Requirement already satisfied: idna<4,>=2.5 in ./cuda/lib/python3.10/site-packages (from requests<3.0.0,>=2.0.0->wikipedia) (3.4)\n",
      "Requirement already satisfied: certifi>=2017.4.17 in ./cuda/lib/python3.10/site-packages (from requests<3.0.0,>=2.0.0->wikipedia) (2023.7.22)\n",
      "Requirement already satisfied: charset-normalizer<4,>=2 in ./cuda/lib/python3.10/site-packages (from requests<3.0.0,>=2.0.0->wikipedia) (3.3.1)\n",
      "Requirement already satisfied: urllib3<3,>=1.21.1 in ./cuda/lib/python3.10/site-packages (from requests<3.0.0,>=2.0.0->wikipedia) (2.0.7)\n",
      "Requirement already satisfied: soupsieve>1.2 in ./cuda/lib/python3.10/site-packages (from beautifulsoup4->wikipedia) (2.5)\n",
      "Building wheels for collected packages: wikipedia\n",
      "  Building wheel for wikipedia (setup.py) ... \u001b[?25ldone\n",
      "\u001b[?25h  Created wheel for wikipedia: filename=wikipedia-1.4.0-py3-none-any.whl size=11693 sha256=cc89ecc8814af025287219c63309d4bc0284112b13548f0133fc872b3569e6a7\n",
      "  Stored in directory: /home/jae-silver/.cache/pip/wheels/5e/b6/c5/93f3dec388ae76edc830cb42901bb0232504dfc0df02fc50de\n",
      "Successfully built wikipedia\n",
      "Installing collected packages: wikipedia\n",
      "Successfully installed wikipedia-1.4.0\n"
     ]
    }
   ],
   "source": [
    "!pip3 install wikipedia"
   ]
  },
  {
   "cell_type": "code",
   "execution_count": 5,
   "id": "fb3ca47b-231c-41e7-a9cb-8b288ac85bb5",
   "metadata": {},
   "outputs": [
    {
     "name": "stdout",
     "output_type": "stream",
     "text": [
      "JavaScript (), often abbreviated as JS, is a programming language that is one of the core technologies of the World Wide Web, alongside HTML and CSS. As of 2023, 98.7% of websites use JavaScript on the client side for webpage behavior, often incorporating third-party libraries. All major web browsers have a dedicated JavaScript engine to execute the code on users' devices.\n",
      "JavaScript is a high-level, often just-in-time compiled language that conforms to the ECMAScript standard. It has dynamic typing, prototype-based object-orientation, and first-class functions. It is multi-paradigm, supporting event-driven, functional, and imperative programming styles. It has application programming interfaces (APIs) for working with text, dates, regular expressions, standard data structures, and the Document Object Model (DOM).\n",
      "The ECMAScript standard does not include any input/output (I/O), such as networking, storage, or graphics facilities. In practice, the web browser or other runtime system provides JavaScript APIs for I/O.\n",
      "JavaScript engines were originally used only in web browsers, but are now core components of some servers and a variety of applications. The most popular runtime system for this usage is Node.js.\n",
      "Although Java and JavaScript are similar in name, syntax, and respective standard libraries, the two languages are distinct and differ greatly in design.\n"
     ]
    }
   ],
   "source": [
    "import wikipedia\n",
    "print(wikipedia.summary('JavaScript'))"
   ]
  },
  {
   "cell_type": "code",
   "execution_count": 7,
   "id": "5bdc424d-e9f3-4a79-8663-23b840d37b08",
   "metadata": {},
   "outputs": [
    {
     "name": "stdout",
     "output_type": "stream",
     "text": [
      "Collecting transformers\n",
      "  Downloading transformers-4.34.1-py3-none-any.whl (7.7 MB)\n",
      "\u001b[2K     \u001b[38;2;114;156;31m━━━━━━━━━━━━━━━━━━━━━━━━━━━━━━━━━━━━━━━━\u001b[0m \u001b[32m7.7/7.7 MB\u001b[0m \u001b[31m4.9 MB/s\u001b[0m eta \u001b[36m0:00:00\u001b[0mm eta \u001b[36m0:00:01\u001b[0m[36m0:00:01\u001b[0m\n",
      "\u001b[?25hCollecting regex!=2019.12.17\n",
      "  Downloading regex-2023.10.3-cp310-cp310-manylinux_2_17_x86_64.manylinux2014_x86_64.whl (773 kB)\n",
      "\u001b[2K     \u001b[38;2;114;156;31m━━━━━━━━━━━━━━━━━━━━━━━━━━━━━━━━━━━━━━━\u001b[0m \u001b[32m773.9/773.9 KB\u001b[0m \u001b[31m3.9 MB/s\u001b[0m eta \u001b[36m0:00:00\u001b[0m MB/s\u001b[0m eta \u001b[36m0:00:01\u001b[0m:01\u001b[0m\n",
      "\u001b[?25hCollecting huggingface-hub<1.0,>=0.16.4\n",
      "  Downloading huggingface_hub-0.18.0-py3-none-any.whl (301 kB)\n",
      "\u001b[2K     \u001b[38;2;114;156;31m━━━━━━━━━━━━━━━━━━━━━━━━━━━━━━━━━━━━━━━\u001b[0m \u001b[32m302.0/302.0 KB\u001b[0m \u001b[31m4.0 MB/s\u001b[0m eta \u001b[36m0:00:00\u001b[0m[36m0:00:01\u001b[0mm eta \u001b[36m0:00:01\u001b[0m\n",
      "\u001b[?25hRequirement already satisfied: numpy>=1.17 in ./cuda/lib/python3.10/site-packages (from transformers) (1.26.1)\n",
      "Requirement already satisfied: pyyaml>=5.1 in ./cuda/lib/python3.10/site-packages (from transformers) (6.0.1)\n",
      "Collecting tqdm>=4.27\n",
      "  Downloading tqdm-4.66.1-py3-none-any.whl (78 kB)\n",
      "\u001b[2K     \u001b[38;2;114;156;31m━━━━━━━━━━━━━━━━━━━━━━━━━━━━━━━━━━━━━━━━\u001b[0m \u001b[32m78.3/78.3 KB\u001b[0m \u001b[31m3.6 MB/s\u001b[0m eta \u001b[36m0:00:00\u001b[0m\n",
      "\u001b[?25hRequirement already satisfied: packaging>=20.0 in ./cuda/lib/python3.10/site-packages (from transformers) (23.2)\n",
      "Collecting tokenizers<0.15,>=0.14\n",
      "  Downloading tokenizers-0.14.1-cp310-cp310-manylinux_2_17_x86_64.manylinux2014_x86_64.whl (3.8 MB)\n",
      "\u001b[2K     \u001b[38;2;114;156;31m━━━━━━━━━━━━━━━━━━━━━━━━━━━━━━━━━━━━━━━━\u001b[0m \u001b[32m3.8/3.8 MB\u001b[0m \u001b[31m4.3 MB/s\u001b[0m eta \u001b[36m0:00:00\u001b[0mm eta \u001b[36m0:00:01\u001b[0m[36m0:00:01\u001b[0m\n",
      "\u001b[?25hCollecting safetensors>=0.3.1\n",
      "  Downloading safetensors-0.4.0-cp310-cp310-manylinux_2_17_x86_64.manylinux2014_x86_64.whl (1.3 MB)\n",
      "\u001b[2K     \u001b[38;2;114;156;31m━━━━━━━━━━━━━━━━━━━━━━━━━━━━━━━━━━━━━━━━\u001b[0m \u001b[32m1.3/1.3 MB\u001b[0m \u001b[31m4.4 MB/s\u001b[0m eta \u001b[36m0:00:00\u001b[0m[36m0:00:01\u001b[0mm eta \u001b[36m0:00:01\u001b[0m\n",
      "\u001b[?25hRequirement already satisfied: requests in ./cuda/lib/python3.10/site-packages (from transformers) (2.31.0)\n",
      "Requirement already satisfied: filelock in ./cuda/lib/python3.10/site-packages (from transformers) (3.13.0)\n",
      "Requirement already satisfied: fsspec>=2023.5.0 in ./cuda/lib/python3.10/site-packages (from huggingface-hub<1.0,>=0.16.4->transformers) (2023.10.0)\n",
      "Requirement already satisfied: typing-extensions>=3.7.4.3 in ./cuda/lib/python3.10/site-packages (from huggingface-hub<1.0,>=0.16.4->transformers) (4.8.0)\n",
      "Collecting huggingface-hub<1.0,>=0.16.4\n",
      "  Downloading huggingface_hub-0.17.3-py3-none-any.whl (295 kB)\n",
      "\u001b[2K     \u001b[38;2;114;156;31m━━━━━━━━━━━━━━━━━━━━━━━━━━━━━━━━━━━━━━━\u001b[0m \u001b[32m295.0/295.0 KB\u001b[0m \u001b[31m4.9 MB/s\u001b[0m eta \u001b[36m0:00:00\u001b[0m[31m6.9 MB/s\u001b[0m eta \u001b[36m0:00:01\u001b[0m\n",
      "\u001b[?25hRequirement already satisfied: idna<4,>=2.5 in ./cuda/lib/python3.10/site-packages (from requests->transformers) (3.4)\n",
      "Requirement already satisfied: urllib3<3,>=1.21.1 in ./cuda/lib/python3.10/site-packages (from requests->transformers) (2.0.7)\n",
      "Requirement already satisfied: charset-normalizer<4,>=2 in ./cuda/lib/python3.10/site-packages (from requests->transformers) (3.3.1)\n",
      "Requirement already satisfied: certifi>=2017.4.17 in ./cuda/lib/python3.10/site-packages (from requests->transformers) (2023.7.22)\n",
      "Installing collected packages: tqdm, safetensors, regex, huggingface-hub, tokenizers, transformers\n",
      "Successfully installed huggingface-hub-0.17.3 regex-2023.10.3 safetensors-0.4.0 tokenizers-0.14.1 tqdm-4.66.1 transformers-4.34.1\n"
     ]
    }
   ],
   "source": [
    "!pip install transformers"
   ]
  },
  {
   "cell_type": "code",
   "execution_count": 8,
   "id": "5d02a315-8e62-4752-9392-aa32138da7aa",
   "metadata": {},
   "outputs": [
    {
     "name": "stderr",
     "output_type": "stream",
     "text": [
      "2023-10-28 16:47:36.132568: I tensorflow/core/util/port.cc:111] oneDNN custom operations are on. You may see slightly different numerical results due to floating-point round-off errors from different computation orders. To turn them off, set the environment variable `TF_ENABLE_ONEDNN_OPTS=0`.\n",
      "2023-10-28 16:47:36.134260: I tensorflow/tsl/cuda/cudart_stub.cc:28] Could not find cuda drivers on your machine, GPU will not be used.\n",
      "2023-10-28 16:47:36.156539: E tensorflow/compiler/xla/stream_executor/cuda/cuda_dnn.cc:9342] Unable to register cuDNN factory: Attempting to register factory for plugin cuDNN when one has already been registered\n",
      "2023-10-28 16:47:36.156566: E tensorflow/compiler/xla/stream_executor/cuda/cuda_fft.cc:609] Unable to register cuFFT factory: Attempting to register factory for plugin cuFFT when one has already been registered\n",
      "2023-10-28 16:47:36.156582: E tensorflow/compiler/xla/stream_executor/cuda/cuda_blas.cc:1518] Unable to register cuBLAS factory: Attempting to register factory for plugin cuBLAS when one has already been registered\n",
      "2023-10-28 16:47:36.161427: I tensorflow/core/platform/cpu_feature_guard.cc:182] This TensorFlow binary is optimized to use available CPU instructions in performance-critical operations.\n",
      "To enable the following instructions: AVX2 AVX512F AVX512_VNNI FMA, in other operations, rebuild TensorFlow with the appropriate compiler flags.\n",
      "2023-10-28 16:47:36.795694: W tensorflow/compiler/tf2tensorrt/utils/py_utils.cc:38] TF-TRT Warning: Could not find TensorRT\n"
     ]
    }
   ],
   "source": [
    "from transformers import pipeline"
   ]
  },
  {
   "cell_type": "code",
   "execution_count": 9,
   "id": "0d71255a-1697-4b21-8b96-95dfc036e943",
   "metadata": {},
   "outputs": [
    {
     "name": "stderr",
     "output_type": "stream",
     "text": [
      "No model was supplied, defaulted to sshleifer/distilbart-cnn-12-6 and revision a4f8f3e (https://huggingface.co/sshleifer/distilbart-cnn-12-6).\n",
      "Using a pipeline without specifying a model name and revision in production is not recommended.\n"
     ]
    }
   ],
   "source": [
    "summarizer = pipeline('summarization')"
   ]
  },
  {
   "cell_type": "code",
   "execution_count": 24,
   "id": "f247c1cc-57b9-43f4-91ec-c2c43b084703",
   "metadata": {},
   "outputs": [],
   "source": [
    "article = 'Grape black rot is a fungal disease caused by an ascomycetous fungus, Guignardia bidwellii, that attacks grape vines during hot and humid weather. “Grape black rot originated in eastern North America, but now occurs in portions of Europe, South America, and Asia. It can cause complete crop loss in warm, humid climates, but is virtually unknown in regions with arid summers.” The name comes from the black fringe that borders growing brown patches on the leaves. The disease also attacks other parts of the plant, “all green parts of the vine: the shoots, leaf and fruit stems, tendrils, and fruit. The most damaging effect is to the fruit”.Grape black rot affects many grape growers throughout the World, therefore, it is important to understand the disease life cycle and environmental conditions to best manage the disease. Once infection takes place, different methods are available to control the disease.'"
   ]
  },
  {
   "cell_type": "code",
   "execution_count": 19,
   "id": "01d8a40b-0e6f-4a02-8b94-e81eee378a34",
   "metadata": {},
   "outputs": [],
   "source": [
    "article = 'Apple scab is a common disease of plants in the rose family (Rosaceae) that is caused by the ascomycete fungus Venturia inaequalis. While this disease affects several plant genera, including Sorbus, Cotoneaster, and Pyrus, it is most commonly associated with the infection of Malus trees, including species of flowering crabapple, as well as cultivated apple. The first symptoms of this disease are found in the foliage, blossoms, and developing fruits of affected trees, which develop dark, irregularly-shaped lesions upon infection. Although apple scab rarely kills its host, infection typically leads to fruit deformation and premature leaf and fruit drop, which enhance the susceptibility of the host plant to abiotic stress and secondary infection. The reduction of fruit quality and yield may result in crop losses of up to 70%, posing a significant threat to the profitability of apple producers. To reduce scab-related yield losses, growers often combine preventive practices, including sanitation and resistance breeding, with reactive measures, such as targeted fungicide or biocontrol treatments, to prevent the incidence and spread of apple scab in their crops. == History and distribution == The earliest official reports of apple scab were made in 1819 by Swedish botanist, Elias Fries. However, genetic studies have indicated that apple scab likely emerged in Central Asia. As neither the spores nor conidia of this disease are capable of travelling great distances, it is likely that apple scab spread through the movement of domesticated apple trees by migrating humans. By the end of the 19th century, the disease had spread to North America and Oceania alongside the importation of host plants. Today apple scab is present in nearly all regions where apples are cultivated, with the most significant infections occurring in temperate areas, where it is cool and moist in the spring. == Disease cycle == The disease cycle begins in early spring, when cool temperatures and abundant moisture promote the release of sexual spores (ascospores) from overwintering structures (pseudothecia) found in the debris at the base of previously-infected trees. Moisture is a critical factor in the development of the disease as rainfall not only triggers the release of ascospores, but also facilitates the infection of new hosts by helping the spores adhere to and germinate on the healthy tissue of new hosts. Following their dissemination, ascospores are transported to the surfaces of newly-emerged leaves and blossoms by wind and splashing water. The tissue is then penetrated either directly with a germ tube or indirectly using an appressorium, thus initiating a new infection. Shortly after penetration, light-green, irregularly shaped lesions develop on infected foliar tissue and gradually darken, expand, and pucker as the infection progresses. Lesions on fruit are black or brown and irregularly shaped, with older fruit lesions causing the underlying tissue to become dry, corky, and eventually disfigured by splitting. Within 10 days of infection, asexual conidia will develop on the darkened lesions and allow for the establishment of secondary infections in healthy leaf and fruit tissue. Under optimal conditions, this cycle may repeat every 1–2 weeks during the growing season. At the end of the season, heavily-infected fruit and foliage fall from the canopy, allowing for the development of pseudothecia, which serve as a source of primary inoculum for the next spring. == Predicting infection == First developed in 1944 by American plant pathologist, W.D. Mills, a Mills Table predicts the likelihood of an apple scab infection developing based on the average temperature and the number of hours of leaf wetness that the host plant is exposed to. This prediction system has been rapidly adopted in both Europe and North America, where apple growers use it as an early warning system for new infections, allowing them to apply preventive fungicides when appropriate. Several revisions have been made to the Mills Table since its creation. The most notable revision was made in 1989 by plant pathologists William MacHardy and David Gadoury, who determined that ascospores required 3 hours less than originally calculated in order to establish a new infection. While other methods of prediction include ascospore maturation models and leaf orchard leaf canopy models, the Mills Table, combined with electronic weather monitoring, remains the most-widely used tool for predicting apple scab infection periods. == Management of apple scab == === Cultural controls === Cultural controls may be used as a first step when seeking to reduce the incidence of new infections. These practices include cleaning leaf litter from the base of previously-infected trees, as well as removing infected woody material from the canopy when performing annual pruning. Doing so will reduce the amount of primary inoculum in the spring and subsequently delay the establishment of the disease. Furthermore, regular pruning will improve air flow and light penetration in the canopy, which ultimately inhibits the development and spread of disease. Another aspect of cultural control is water management. As water triggers ascospore release and promotes germination on vulnerable tissue, growers are advised to monitor watering periods and avoid using overhead watering systems. Doing so may ultimately aid in reducing infection periods caused by natural precipitation. === Chemical controls === The management of apple scab using chemical controls is primarily concerned with preventing the initiation of primary infection cycles by reducing the germination of ascospores. As such, fungicides are typically applied early in the season, when ascospores are first released. However, fungicide applications may also be made later in the season to prevent infection of old leaves, which can help reduce the amount of primary inoculum for the following season. Benzimidazole fungicides are among the most commonly-used classes of fungicide for managing apple scab in conventional orchards; however, there is some evidence that the disease is developing resistance to this class of fungicides, along with several others, including demethylation inhibitors and quinone outside inhibitors. To manage the development of fungicide resistance, growers can reduce the number of applications made throughout the season and alternate between different classes of fungicide.In organic production systems, growers commonly use copper- or sulfur-based protectant sprays to reduce the efficacy of primary inoculum. Although these sprays were among the earliest methods of preventing the development of apple scab, they do little to manage pre-existing infections and application may significantly damage the foliage of treated trees. Moreover, research has indicated that applications of copper-based fungicides may result in changes in the structure and functionality of soil microbiota, thus having a negative effect on soil health. As such, alternative management strategies appropriate for organic production systems are currently being developed. === Biological Control === Biological control refers to the use of a population of one organism (a biological control agent) to suppress the population of another. There are very few biological control agents registered for the control of apple scab. One of the most widely-recognized products is Serenade® ASO, a microbial biofungicide which uses Bacillus subtilis as its active ingredient and may be used to control foliar diseases caused by bacteria or fungi. Furthermore, several fungal antagonists have been isolated and identified as potential biocontrols. One of such antagonists is Cladosporium cladosporioides (strain H39). This antagonistic fungus has demonstrated significant bioactivity against apple scab. This was indicated in a 2015 study, which found that applications of C. cladosporioides could reduce leaf scab incidence by 42-98% and apple scab incidence by 41-94% in both conventionally and organically managed orchards. == Resistance breeding programs == The first formal resistance breeding programs for apple scab began in the early 20th century with the development of the PRI Apple Breeding Program by Purdue University, Rutgers University, and the University of Illinois. Since its inception in 1945, the PRI Apple Breeding Program has used controlled crosses between cultivated apples and wild Malus species to develop 1500 resistant cultivars, 16 of which  have been named released into market. Modern genetic work has found that a total of fifteen genes may confer resistance to apple scab. Many of these genes have been isolated from wild Malus spp. populations in East Asia, where a high level of species diversity still remains. Of these resistance genes, the Vf (Rvi6) gene is the most well-studied and is currently being used by researchers seeking to develop resistant cultivars using transgenic technology'"
   ]
  },
  {
   "cell_type": "code",
   "execution_count": 25,
   "id": "95932b6b-a933-4033-a7b3-ed14065108ca",
   "metadata": {},
   "outputs": [
    {
     "name": "stderr",
     "output_type": "stream",
     "text": [
      "Your max_length is set to 330, but your input_length is only 196. Since this is a summarization task, where outputs shorter than the input are typically wanted, you might consider decreasing max_length manually, e.g. summarizer('...', max_length=98)\n"
     ]
    },
    {
     "data": {
      "text/plain": [
       "[{'summary_text': ' Grape black rot is a fungal disease caused by an ascomycetous fungus, Guignardia bidwellii . It can cause complete crop loss in warm, humid climates, but is virtually unknown in regions with arid summers . The name comes from the black fringe that borders growing brown patches on the leaves . The disease also attacks other parts of the plant, the shoots, leaf and fruit stems, tendrils, and fruit . The most damaging effect is to the fruit .'}]"
      ]
     },
     "execution_count": 25,
     "metadata": {},
     "output_type": "execute_result"
    }
   ],
   "source": [
    "summarizer(article, max_length=330, min_length = 100, do_sample=False)"
   ]
  },
  {
   "cell_type": "code",
   "execution_count": 21,
   "id": "39baa601-4618-4741-bd87-9b71df203f23",
   "metadata": {},
   "outputs": [
    {
     "name": "stderr",
     "output_type": "stream",
     "text": [
      "huggingface/tokenizers: The current process just got forked, after parallelism has already been used. Disabling parallelism to avoid deadlocks...\n",
      "To disable this warning, you can either:\n",
      "\t- Avoid using `tokenizers` before the fork if possible\n",
      "\t- Explicitly set the environment variable TOKENIZERS_PARALLELISM=(true | false)\n"
     ]
    },
    {
     "name": "stdout",
     "output_type": "stream",
     "text": [
      "Requirement already satisfied: fastapi[all] in ./cuda/lib/python3.10/site-packages (0.104.0)\n",
      "Requirement already satisfied: typing-extensions>=4.8.0 in ./cuda/lib/python3.10/site-packages (from fastapi[all]) (4.8.0)\n",
      "Requirement already satisfied: starlette<0.28.0,>=0.27.0 in ./cuda/lib/python3.10/site-packages (from fastapi[all]) (0.27.0)\n",
      "Requirement already satisfied: anyio<4.0.0,>=3.7.1 in ./cuda/lib/python3.10/site-packages (from fastapi[all]) (3.7.1)\n",
      "Requirement already satisfied: pydantic!=1.8,!=1.8.1,!=2.0.0,!=2.0.1,!=2.1.0,<3.0.0,>=1.7.4 in ./cuda/lib/python3.10/site-packages (from fastapi[all]) (2.4.2)\n",
      "Requirement already satisfied: python-multipart>=0.0.5 in ./cuda/lib/python3.10/site-packages (from fastapi[all]) (0.0.6)\n",
      "Requirement already satisfied: itsdangerous>=1.1.0 in ./cuda/lib/python3.10/site-packages (from fastapi[all]) (2.1.2)\n",
      "Requirement already satisfied: orjson>=3.2.1 in ./cuda/lib/python3.10/site-packages (from fastapi[all]) (3.9.10)\n",
      "Requirement already satisfied: jinja2>=2.11.2 in ./cuda/lib/python3.10/site-packages (from fastapi[all]) (3.1.2)\n",
      "Requirement already satisfied: httpx>=0.23.0 in ./cuda/lib/python3.10/site-packages (from fastapi[all]) (0.25.0)\n",
      "Requirement already satisfied: pydantic-extra-types>=2.0.0 in ./cuda/lib/python3.10/site-packages (from fastapi[all]) (2.1.0)\n",
      "Requirement already satisfied: pyyaml>=5.3.1 in ./cuda/lib/python3.10/site-packages (from fastapi[all]) (6.0.1)\n",
      "Requirement already satisfied: ujson!=4.0.2,!=4.1.0,!=4.2.0,!=4.3.0,!=5.0.0,!=5.1.0,>=4.0.1 in ./cuda/lib/python3.10/site-packages (from fastapi[all]) (5.8.0)\n",
      "Requirement already satisfied: pydantic-settings>=2.0.0 in ./cuda/lib/python3.10/site-packages (from fastapi[all]) (2.0.3)\n",
      "Requirement already satisfied: email-validator>=2.0.0 in ./cuda/lib/python3.10/site-packages (from fastapi[all]) (2.1.0.post1)\n",
      "Requirement already satisfied: uvicorn[standard]>=0.12.0 in ./cuda/lib/python3.10/site-packages (from fastapi[all]) (0.23.2)\n",
      "Requirement already satisfied: idna>=2.8 in ./cuda/lib/python3.10/site-packages (from anyio<4.0.0,>=3.7.1->fastapi[all]) (3.4)\n",
      "Requirement already satisfied: sniffio>=1.1 in ./cuda/lib/python3.10/site-packages (from anyio<4.0.0,>=3.7.1->fastapi[all]) (1.3.0)\n",
      "Requirement already satisfied: exceptiongroup in ./cuda/lib/python3.10/site-packages (from anyio<4.0.0,>=3.7.1->fastapi[all]) (1.1.3)\n",
      "Requirement already satisfied: dnspython>=2.0.0 in ./cuda/lib/python3.10/site-packages (from email-validator>=2.0.0->fastapi[all]) (2.4.2)\n",
      "Requirement already satisfied: httpcore<0.19.0,>=0.18.0 in ./cuda/lib/python3.10/site-packages (from httpx>=0.23.0->fastapi[all]) (0.18.0)\n",
      "Requirement already satisfied: certifi in ./cuda/lib/python3.10/site-packages (from httpx>=0.23.0->fastapi[all]) (2023.7.22)\n",
      "Requirement already satisfied: MarkupSafe>=2.0 in ./cuda/lib/python3.10/site-packages (from jinja2>=2.11.2->fastapi[all]) (2.1.3)\n",
      "Requirement already satisfied: annotated-types>=0.4.0 in ./cuda/lib/python3.10/site-packages (from pydantic!=1.8,!=1.8.1,!=2.0.0,!=2.0.1,!=2.1.0,<3.0.0,>=1.7.4->fastapi[all]) (0.6.0)\n",
      "Requirement already satisfied: pydantic-core==2.10.1 in ./cuda/lib/python3.10/site-packages (from pydantic!=1.8,!=1.8.1,!=2.0.0,!=2.0.1,!=2.1.0,<3.0.0,>=1.7.4->fastapi[all]) (2.10.1)\n",
      "Requirement already satisfied: python-dotenv>=0.21.0 in ./cuda/lib/python3.10/site-packages (from pydantic-settings>=2.0.0->fastapi[all]) (1.0.0)\n",
      "Requirement already satisfied: click>=7.0 in ./cuda/lib/python3.10/site-packages (from uvicorn[standard]>=0.12.0->fastapi[all]) (8.1.7)\n",
      "Requirement already satisfied: h11>=0.8 in ./cuda/lib/python3.10/site-packages (from uvicorn[standard]>=0.12.0->fastapi[all]) (0.14.0)\n",
      "Requirement already satisfied: httptools>=0.5.0 in ./cuda/lib/python3.10/site-packages (from uvicorn[standard]>=0.12.0->fastapi[all]) (0.6.1)\n",
      "Requirement already satisfied: websockets>=10.4 in ./cuda/lib/python3.10/site-packages (from uvicorn[standard]>=0.12.0->fastapi[all]) (12.0)\n",
      "Requirement already satisfied: watchfiles>=0.13 in ./cuda/lib/python3.10/site-packages (from uvicorn[standard]>=0.12.0->fastapi[all]) (0.21.0)\n",
      "Requirement already satisfied: uvloop!=0.15.0,!=0.15.1,>=0.14.0 in ./cuda/lib/python3.10/site-packages (from uvicorn[standard]>=0.12.0->fastapi[all]) (0.19.0)\n"
     ]
    }
   ],
   "source": [
    "!pip install fastapi[all]"
   ]
  },
  {
   "cell_type": "code",
   "execution_count": 4,
   "id": "508ab1f3-7bfb-4315-a7fd-b7b4fb83ceb1",
   "metadata": {},
   "outputs": [
    {
     "name": "stdout",
     "output_type": "stream",
     "text": [
      "Requirement already satisfied: requests in ./cuda/lib/python3.10/site-packages (2.31.0)\n",
      "Requirement already satisfied: certifi>=2017.4.17 in ./cuda/lib/python3.10/site-packages (from requests) (2023.7.22)\n",
      "Requirement already satisfied: charset-normalizer<4,>=2 in ./cuda/lib/python3.10/site-packages (from requests) (3.3.1)\n",
      "Requirement already satisfied: idna<4,>=2.5 in ./cuda/lib/python3.10/site-packages (from requests) (3.4)\n",
      "Requirement already satisfied: urllib3<3,>=1.21.1 in ./cuda/lib/python3.10/site-packages (from requests) (2.0.7)\n"
     ]
    }
   ],
   "source": [
    "!pip install requests"
   ]
  },
  {
   "cell_type": "code",
   "execution_count": 7,
   "id": "d5825ea0-10bc-43f6-9a77-14eaeddbf5fa",
   "metadata": {},
   "outputs": [
    {
     "name": "stdout",
     "output_type": "stream",
     "text": [
      "\u001b[31mERROR: Could not find a version that satisfies the requirement wikipediaapi (from versions: none)\u001b[0m\u001b[31m\n",
      "\u001b[0m\u001b[31mERROR: No matching distribution found for wikipediaapi\u001b[0m\u001b[31m\n",
      "\u001b[0m"
     ]
    }
   ],
   "source": [
    "!pip install wikipediaapi"
   ]
  },
  {
   "cell_type": "code",
   "execution_count": 8,
   "id": "ae64b6e4-1ed6-4a31-8efc-6fd75b66b0fe",
   "metadata": {},
   "outputs": [
    {
     "ename": "SyntaxError",
     "evalue": "invalid syntax (3208439030.py, line 1)",
     "output_type": "error",
     "traceback": [
      "\u001b[0;36m  Cell \u001b[0;32mIn[8], line 1\u001b[0;36m\u001b[0m\n\u001b[0;31m    pip install fastapi\u001b[0m\n\u001b[0m        ^\u001b[0m\n\u001b[0;31mSyntaxError\u001b[0m\u001b[0;31m:\u001b[0m invalid syntax\n"
     ]
    }
   ],
   "source": [
    "pip install fastapi\n",
    "pip install uvicorn\n",
    "pip install wikipedia-api\n"
   ]
  },
  {
   "cell_type": "code",
   "execution_count": 9,
   "id": "82f3c283-08a2-4525-90c0-00c1568e88ab",
   "metadata": {},
   "outputs": [
    {
     "name": "stdout",
     "output_type": "stream",
     "text": [
      "Collecting wikipedia-api\n",
      "  Downloading Wikipedia_API-0.6.0-py3-none-any.whl (14 kB)\n",
      "Requirement already satisfied: requests in ./cuda/lib/python3.10/site-packages (from wikipedia-api) (2.31.0)\n",
      "Requirement already satisfied: urllib3<3,>=1.21.1 in ./cuda/lib/python3.10/site-packages (from requests->wikipedia-api) (2.0.7)\n",
      "Requirement already satisfied: idna<4,>=2.5 in ./cuda/lib/python3.10/site-packages (from requests->wikipedia-api) (3.4)\n",
      "Requirement already satisfied: certifi>=2017.4.17 in ./cuda/lib/python3.10/site-packages (from requests->wikipedia-api) (2023.7.22)\n",
      "Requirement already satisfied: charset-normalizer<4,>=2 in ./cuda/lib/python3.10/site-packages (from requests->wikipedia-api) (3.3.1)\n",
      "Installing collected packages: wikipedia-api\n",
      "Successfully installed wikipedia-api-0.6.0\n"
     ]
    }
   ],
   "source": [
    "!pip install wikipedia-api"
   ]
  },
  {
   "cell_type": "code",
   "execution_count": 2,
   "id": "c34c5f23-4385-4890-893a-7762049289fe",
   "metadata": {},
   "outputs": [
    {
     "name": "stdout",
     "output_type": "stream",
     "text": [
      "Coffee is a beverage prepared from roasted coffee beans. Darkly colored, bitter, and slightly acidic, coffee has a stimulating effect on humans, primarily due to its caffeine content. It has the highest sales in the world market for hot drinks.The seeds of the Coffea plant's fruits are separated to produce unroasted green coffee beans. The beans are roasted and then ground into fine particles typically steeped in hot water before being filtered out, producing a cup of coffee. It is usually served hot, although chilled or iced coffee is common. Coffee can be prepared and presented in a variety of ways (e.g., espresso, French press, caffè latte, or already-brewed canned coffee). Sugar, sugar substitutes, milk, and cream are often added to mask the bitter taste or enhance the flavor.\n",
      "Though coffee is now a global commodity, it has a long history tied closely to food traditions around the Red Sea. The earliest credible evidence of coffee drinking as the modern beverage appears in modern-day Yemen in southern Arabia in the middle of the 15th century in Sufi shrines, where coffee seeds were first roasted and brewed in a manner similar to how it is now prepared for drinking. The coffee beans were procured by the Yemenis from the Ethiopian Highlands via coastal Somali intermediaries, and cultivated in Yemen. By the 16th century, the drink had reached the rest of the Middle East and North Africa, later spreading to Europe.\n",
      "The two most commonly grown coffee bean types are C. arabica and C. robusta. Coffee plants are cultivated in over 70 countries, primarily in the equatorial regions of the Americas, Southeast Asia, the Indian subcontinent, and Africa. As of 2018, Brazil was the leading grower of coffee beans, producing 35% of the world's total. Green, unroasted coffee is traded as an agricultural commodity. Despite sales of coffee reaching billions of dollars worldwide, farmers producing coffee beans disproportionately live in poverty. Critics of the coffee industry have also pointed to its negative impact on the environment and the clearing of land for coffee-growing and water use.\n"
     ]
    }
   ],
   "source": [
    "import wikipedia\n",
    "print(wikipedia.summary('Coffee'))"
   ]
  },
  {
   "cell_type": "code",
   "execution_count": null,
   "id": "775f490b-f129-4688-8a2d-a8203651ac9d",
   "metadata": {},
   "outputs": [],
   "source": []
  }
 ],
 "metadata": {
  "kernelspec": {
   "display_name": "cuda",
   "language": "python",
   "name": "cuda"
  },
  "language_info": {
   "codemirror_mode": {
    "name": "ipython",
    "version": 3
   },
   "file_extension": ".py",
   "mimetype": "text/x-python",
   "name": "python",
   "nbconvert_exporter": "python",
   "pygments_lexer": "ipython3",
   "version": "3.10.12"
  }
 },
 "nbformat": 4,
 "nbformat_minor": 5
}
