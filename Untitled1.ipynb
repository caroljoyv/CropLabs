{
 "cells": [
  {
   "cell_type": "code",
   "execution_count": 1,
   "id": "f650c0f0-9b42-40d7-804c-23d298a93c26",
   "metadata": {},
   "outputs": [
    {
     "name": "stdout",
     "output_type": "stream",
     "text": [
      "Collecting pyTelegramBotAPI\n",
      "  Downloading pyTelegramBotAPI-4.14.0.tar.gz (243 kB)\n",
      "\u001b[2K     \u001b[38;2;114;156;31m━━━━━━━━━━━━━━━━━━━━━━━━━━━━━━━━━━━━━━━\u001b[0m \u001b[32m243.1/243.1 KB\u001b[0m \u001b[31m2.0 MB/s\u001b[0m eta \u001b[36m0:00:00\u001b[0m[31m2.1 MB/s\u001b[0m eta \u001b[36m0:00:01\u001b[0m\n",
      "\u001b[?25h  Preparing metadata (setup.py) ... \u001b[?25ldone\n",
      "\u001b[?25hRequirement already satisfied: requests in ./cuda/lib/python3.10/site-packages (from pyTelegramBotAPI) (2.31.0)\n",
      "Requirement already satisfied: urllib3<3,>=1.21.1 in ./cuda/lib/python3.10/site-packages (from requests->pyTelegramBotAPI) (2.0.7)\n",
      "Requirement already satisfied: certifi>=2017.4.17 in ./cuda/lib/python3.10/site-packages (from requests->pyTelegramBotAPI) (2023.7.22)\n",
      "Requirement already satisfied: idna<4,>=2.5 in ./cuda/lib/python3.10/site-packages (from requests->pyTelegramBotAPI) (3.4)\n",
      "Requirement already satisfied: charset-normalizer<4,>=2 in ./cuda/lib/python3.10/site-packages (from requests->pyTelegramBotAPI) (3.3.1)\n",
      "Building wheels for collected packages: pyTelegramBotAPI\n",
      "  Building wheel for pyTelegramBotAPI (setup.py) ... \u001b[?25ldone\n",
      "\u001b[?25h  Created wheel for pyTelegramBotAPI: filename=pyTelegramBotAPI-4.14.0-py3-none-any.whl size=215263 sha256=0706766ef2055cfefcba0ae732322c3c4edf7f9c50b4081fb7725d33b81a1fd0\n",
      "  Stored in directory: /home/jae-silver/.cache/pip/wheels/25/51/2d/24b40a366c85c37928d5aa36ddf257e5a79fad25e1ecd11b2c\n",
      "Successfully built pyTelegramBotAPI\n",
      "Installing collected packages: pyTelegramBotAPI\n",
      "Successfully installed pyTelegramBotAPI-4.14.0\n"
     ]
    }
   ],
   "source": [
    "!pip install pyTelegramBotAPI"
   ]
  },
  {
   "cell_type": "code",
   "execution_count": null,
   "id": "25687b4c-8f43-420f-bf76-a7a5a1f88357",
   "metadata": {},
   "outputs": [],
   "source": []
  }
 ],
 "metadata": {
  "kernelspec": {
   "display_name": "Python 3 (ipykernel)",
   "language": "python",
   "name": "python3"
  },
  "language_info": {
   "codemirror_mode": {
    "name": "ipython",
    "version": 3
   },
   "file_extension": ".py",
   "mimetype": "text/x-python",
   "name": "python",
   "nbconvert_exporter": "python",
   "pygments_lexer": "ipython3",
   "version": "3.10.12"
  }
 },
 "nbformat": 4,
 "nbformat_minor": 5
}
